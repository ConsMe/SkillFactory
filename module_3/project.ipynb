{
 "cells": [
  {
   "cell_type": "markdown",
   "metadata": {},
   "source": [
    "# Загрузка Pandas и очистка данных"
   ]
  },
  {
   "cell_type": "code",
   "execution_count": 1590,
   "metadata": {},
   "outputs": [],
   "source": [
    "import pandas as pd\n",
    "import numpy as np\n",
    "from ast import literal_eval\n",
    "from datetime import datetime as dt"
   ]
  },
  {
   "cell_type": "code",
   "execution_count": 1591,
   "metadata": {},
   "outputs": [],
   "source": [
    "# Прочитаем датасет\n",
    "df = pd.read_csv('main_task.csv')"
   ]
  },
  {
   "cell_type": "code",
   "execution_count": 1592,
   "metadata": {},
   "outputs": [],
   "source": [
    "# Заменим наименование столбцов для более удобной работы\n",
    "df.columns = ['restaurant_id', 'city', 'cuisine_style', 'ranking',\n",
    "              'rating', 'price_range', 'reviews_number', 'reviews', 'url_ta', 'id_ta']"
   ]
  },
  {
   "cell_type": "code",
   "execution_count": 1593,
   "metadata": {
    "scrolled": true
   },
   "outputs": [
    {
     "name": "stdout",
     "output_type": "stream",
     "text": [
      "<class 'pandas.core.frame.DataFrame'>\n",
      "RangeIndex: 40000 entries, 0 to 39999\n",
      "Data columns (total 10 columns):\n",
      " #   Column          Non-Null Count  Dtype  \n",
      "---  ------          --------------  -----  \n",
      " 0   restaurant_id   40000 non-null  object \n",
      " 1   city            40000 non-null  object \n",
      " 2   cuisine_style   30717 non-null  object \n",
      " 3   ranking         40000 non-null  float64\n",
      " 4   rating          40000 non-null  float64\n",
      " 5   price_range     26114 non-null  object \n",
      " 6   reviews_number  37457 non-null  float64\n",
      " 7   reviews         40000 non-null  object \n",
      " 8   url_ta          40000 non-null  object \n",
      " 9   id_ta           40000 non-null  object \n",
      "dtypes: float64(3), object(7)\n",
      "memory usage: 3.1+ MB\n"
     ]
    }
   ],
   "source": [
    "# Посмотрим на информацию о датафрейме\n",
    "df.info()"
   ]
  },
  {
   "cell_type": "code",
   "execution_count": 1594,
   "metadata": {},
   "outputs": [],
   "source": [
    "# Обнаружены пропуски в столбце Number of Reviews. Можно сделать предположение, что если\n",
    "# в столбце reviews указан пустой список, значит количество отзывов = 0. Заменим такие пропуски.\n",
    "# df[df.reviews_number.isna() & (df.reviews == '[[], []]')].loc[:,('reviews_number')] = 0\n",
    "df.loc[df.reviews_number.isna() & (df.reviews == '[[], []]'),\n",
    "       'reviews_number'] = 0"
   ]
  },
  {
   "cell_type": "code",
   "execution_count": 1595,
   "metadata": {},
   "outputs": [],
   "source": [
    "# Дальше мы можем предположить, что если в столбце reviews представлена информация только\n",
    "# об одном отзыве, то количество отзывов = 1. Заменим такие пропуски.\n",
    "# df[df.reviews_number.isna() & (df.reviews.str.match('^\\[\\[\\'.*\\'\\],\\s?\\[\\'.*\\'\\]\\]$'))] = 1\n",
    "df.loc[df.reviews_number.isna() & (df.reviews.str.match(\n",
    "    '^\\[\\[\\'.*\\'\\],\\s?\\[\\'.*\\'\\]\\]$')), 'reviews_number'] = 1"
   ]
  },
  {
   "cell_type": "code",
   "execution_count": 1596,
   "metadata": {
    "scrolled": true
   },
   "outputs": [
    {
     "name": "stdout",
     "output_type": "stream",
     "text": [
      "<class 'pandas.core.frame.DataFrame'>\n",
      "RangeIndex: 40000 entries, 0 to 39999\n",
      "Data columns (total 10 columns):\n",
      " #   Column          Non-Null Count  Dtype  \n",
      "---  ------          --------------  -----  \n",
      " 0   restaurant_id   40000 non-null  object \n",
      " 1   city            40000 non-null  object \n",
      " 2   cuisine_style   30717 non-null  object \n",
      " 3   ranking         40000 non-null  float64\n",
      " 4   rating          40000 non-null  float64\n",
      " 5   price_range     26114 non-null  object \n",
      " 6   reviews_number  39972 non-null  float64\n",
      " 7   reviews         40000 non-null  object \n",
      " 8   url_ta          40000 non-null  object \n",
      " 9   id_ta           40000 non-null  object \n",
      "dtypes: float64(3), object(7)\n",
      "memory usage: 3.1+ MB\n"
     ]
    }
   ],
   "source": [
    "# Проверим, что получилось\n",
    "df.info()"
   ]
  },
  {
   "cell_type": "code",
   "execution_count": 1597,
   "metadata": {},
   "outputs": [],
   "source": [
    "# Т.о. осталось только 28 пропусков в столбце reviews_number, заменим их средним значением\n",
    "df.fillna(value={'reviews_number': df.reviews_number.mean()}, inplace=True)"
   ]
  },
  {
   "cell_type": "code",
   "execution_count": 1598,
   "metadata": {},
   "outputs": [],
   "source": [
    "# Поскольку показатель ranking зависит от общего количества ресторанов в городе, то можно\n",
    "# представить его в виде относительной величины как отношение к максимальному по городу\n",
    "groups_by_cities = df.groupby('city').ranking.max()\n",
    "df.ranking = df.apply(lambda x: x.ranking/groups_by_cities[x.city], axis=1)"
   ]
  },
  {
   "cell_type": "code",
   "execution_count": 1599,
   "metadata": {
    "scrolled": true
   },
   "outputs": [],
   "source": [
    "# У нас есть категориальный признак cuisine_style, создадим на его основе dummy признаки\n",
    "# При этом уменьшим количество значений этого признака, переимновав такие значения в Other\n",
    "df_styles = df.cuisine_style.fillna('[]').apply(lambda x: literal_eval(x))\n",
    "all_cuisine_styles = []\n",
    "for style in df_styles:\n",
    "    all_cuisine_styles += style\n",
    "cuisine_styles = set(all_cuisine_styles)\n",
    "cuisine_styles_new = set()\n",
    "for style in cuisine_styles:\n",
    "    freq = df.cuisine_style.str.contains(style).sum()\n",
    "    if freq < 100:\n",
    "        df.cuisine_style = df.cuisine_style.replace(style, 'Other')\n",
    "        cuisine_styles_new.add('Other')\n",
    "    else:\n",
    "        cuisine_styles_new.add(style)\n",
    "for style in cuisine_styles_new:\n",
    "    df[style] = df.cuisine_style.fillna('').apply(\n",
    "        lambda x: 1 if style in x else 0)"
   ]
  },
  {
   "cell_type": "code",
   "execution_count": 1600,
   "metadata": {
    "scrolled": true
   },
   "outputs": [],
   "source": [
    "# Создадим также dummy признаки для второго категориального признака - city\n",
    "df = df.join(pd.get_dummies(df.city))"
   ]
  },
  {
   "cell_type": "code",
   "execution_count": 1601,
   "metadata": {},
   "outputs": [],
   "source": [
    "# Приведем показатель price_range к числовому значению и заменим пропуски на среднее значение\n",
    "df.price_range = df.price_range.replace('$', 1)\n",
    "df.price_range = df.price_range.replace('$$ - $$$', 2)\n",
    "df.price_range = df.price_range.replace('$$$$', 3)\n",
    "df.price_range.fillna(df.price_range.mean(), inplace=True)"
   ]
  },
  {
   "cell_type": "code",
   "execution_count": 1602,
   "metadata": {},
   "outputs": [],
   "source": [
    "# Посчитаем сколько дней прошло с момента последнего отзыва и добавим эти данные в качестве нового признака.\n",
    "# При этом будем исходить из предположения, что датой составления датасета является максимальная дата отзыва\n",
    "# из всего датасета. Также предположим, что если отзывов нет, эта цифра равна среднему количеству дней\n",
    "# в датасете.\n",
    "df.reviews = df.reviews.apply(lambda x: literal_eval(x.replace('nan', \"''\")))\n",
    "df['review1_date'] = df.reviews.apply(lambda x: x[1][0] if len(x[1]) else '')\n",
    "df['review2_date'] = df.reviews.apply(\n",
    "    lambda x: x[1][1] if len(x[1]) > 1 else '')\n",
    "df.review1_date = pd.to_datetime(df.review1_date)\n",
    "df.review2_date = pd.to_datetime(df.review2_date)\n",
    "df['last_review_date'] = df.apply(\n",
    "    lambda x: x.review1_date if x.review1_date > x.review2_date else x.review2_date, axis=1)\n",
    "last_date = df.last_review_date.max()\n",
    "df['last_review_days'] = df.apply(lambda x: (\n",
    "    last_date - x.last_review_date).days, axis=1)\n",
    "df.last_review_days = df.last_review_days.fillna(df.last_review_days.mean())"
   ]
  },
  {
   "cell_type": "code",
   "execution_count": 1603,
   "metadata": {},
   "outputs": [],
   "source": [
    "# Добавим новый признак, показывающий сколько дней прошло между двумя представленными в датасете отзывами\n",
    "# и заполним максимальным значением те строки, где двух отзывов нет\n",
    "df['interval'] = df.apply(lambda x: abs(\n",
    "    (x.review1_date - x.review2_date).days), axis=1)\n",
    "df.interval.fillna(df.interval.max(), inplace=True)"
   ]
  },
  {
   "cell_type": "code",
   "execution_count": 1604,
   "metadata": {},
   "outputs": [
    {
     "data": {
      "text/plain": [
       "array([[<AxesSubplot:title={'center':'interval'}>,\n",
       "        <AxesSubplot:title={'center':'last_review_days'}>],\n",
       "       [<AxesSubplot:title={'center':'reviews_number'}>,\n",
       "        <AxesSubplot:title={'center':'ranking'}>],\n",
       "       [<AxesSubplot:title={'center':'price_range'}>, <AxesSubplot:>]],\n",
       "      dtype=object)"
      ]
     },
     "execution_count": 1604,
     "metadata": {},
     "output_type": "execute_result"
    },
    {
     "data": {
      "image/png": "[encoded data removed]",
      "text/plain": [
       "<Figure size 432x288 with 6 Axes>"
      ]
     },
     "metadata": {
      "needs_background": "light"
     },
     "output_type": "display_data"
    }
   ],
   "source": [
    "# Посмотрим на распределение некоторых числовых признаков\n",
    "df[['interval', 'last_review_days', 'reviews_number',\n",
    "    'ranking', 'price_range']].hist(bins=5)"
   ]
  },
  {
   "cell_type": "code",
   "execution_count": 1605,
   "metadata": {
    "scrolled": false
   },
   "outputs": [
    {
     "data": {
      "text/plain": [
       "<AxesSubplot:>"
      ]
     },
     "execution_count": 1605,
     "metadata": {},
     "output_type": "execute_result"
    },
    {
     "data": {
      "image/png": "[encoded data removed]",
      "text/plain": [
       "<Figure size 432x288 with 1 Axes>"
      ]
     },
     "metadata": {
      "needs_background": "light"
     },
     "output_type": "display_data"
    }
   ],
   "source": [
    "# for feature in ['last_review_days', 'reviews_number', 'ranking', 'interval']:\n",
    "df.boxplot(column='last_review_days')"
   ]
  },
  {
   "cell_type": "code",
   "execution_count": 1606,
   "metadata": {},
   "outputs": [
    {
     "data": {
      "text/plain": [
       "<AxesSubplot:>"
      ]
     },
     "execution_count": 1606,
     "metadata": {},
     "output_type": "execute_result"
    },
    {
     "data": {
      "image/png": "[encoded data removed]",
      "text/plain": [
       "<Figure size 432x288 with 1 Axes>"
      ]
     },
     "metadata": {
      "needs_background": "light"
     },
     "output_type": "display_data"
    }
   ],
   "source": [
    "df.boxplot(column='reviews_number')"
   ]
  },
  {
   "cell_type": "code",
   "execution_count": 1607,
   "metadata": {},
   "outputs": [
    {
     "data": {
      "text/plain": [
       "<AxesSubplot:>"
      ]
     },
     "execution_count": 1607,
     "metadata": {},
     "output_type": "execute_result"
    },
    {
     "data": {
      "image/png": "[encoded data removed]",
      "text/plain": [
       "<Figure size 432x288 with 1 Axes>"
      ]
     },
     "metadata": {
      "needs_background": "light"
     },
     "output_type": "display_data"
    }
   ],
   "source": [
    "df.boxplot(column='ranking')"
   ]
  },
  {
   "cell_type": "code",
   "execution_count": 1608,
   "metadata": {
    "scrolled": true
   },
   "outputs": [
    {
     "data": {
      "text/plain": [
       "<AxesSubplot:>"
      ]
     },
     "execution_count": 1608,
     "metadata": {},
     "output_type": "execute_result"
    },
    {
     "data": {
      "image/png": "[encoded data removed]",
      "text/plain": [
       "<Figure size 432x288 with 1 Axes>"
      ]
     },
     "metadata": {
      "needs_background": "light"
     },
     "output_type": "display_data"
    }
   ],
   "source": [
    "df.boxplot(column='interval')"
   ]
  },
  {
   "cell_type": "code",
   "execution_count": 1609,
   "metadata": {},
   "outputs": [
    {
     "data": {
      "text/plain": [
       "<AxesSubplot:>"
      ]
     },
     "execution_count": 1609,
     "metadata": {},
     "output_type": "execute_result"
    },
    {
     "data": {
      "image/png": "[encoded data removed]",
      "text/plain": [
       "<Figure size 432x288 with 1 Axes>"
      ]
     },
     "metadata": {
      "needs_background": "light"
     },
     "output_type": "display_data"
    }
   ],
   "source": [
    "df.boxplot(column='price_range')"
   ]
  },
  {
   "cell_type": "code",
   "execution_count": 1610,
   "metadata": {},
   "outputs": [],
   "source": [
    "# Можно было бы посчитать по признаку reviews_number значения более 6000 и по признаку last_review_days\n",
    "# значения более 3000 выбросами, однако проведенные тесты показали, что их удаление не\n",
    "# приводит к улучшению точности модели."
   ]
  },
  {
   "cell_type": "code",
   "execution_count": 1611,
   "metadata": {},
   "outputs": [],
   "source": [
    "# Распределение признаков interval и last_review_days не выглядит нормальным, однако оно обусловлено\n",
    "# большим количеством отсутствующих данных, которые мы были вынуждены заменить исходя из\n",
    "# наших предположений."
   ]
  },
  {
   "cell_type": "code",
   "execution_count": 1612,
   "metadata": {},
   "outputs": [],
   "source": [
    "# Удалим все нечисловые столбцы\n",
    "df.drop(['review1_date', 'review2_date',\n",
    "         'last_review_date'], axis=1, inplace=True)\n",
    "for col in df:\n",
    "    if df[col].dtype == np.object:\n",
    "        df.drop(columns=[col], inplace=True)"
   ]
  },
  {
   "cell_type": "code",
   "execution_count": 1613,
   "metadata": {},
   "outputs": [
    {
     "data": {
      "text/html": [
       "<div>\n",
       "<style scoped>\n",
       "    .dataframe tbody tr th:only-of-type {\n",
       "        vertical-align: middle;\n",
       "    }\n",
       "\n",
       "    .dataframe tbody tr th {\n",
       "        vertical-align: top;\n",
       "    }\n",
       "\n",
       "    .dataframe thead th {\n",
       "        text-align: right;\n",
       "    }\n",
       "</style>\n",
       "<table border=\"1\" class=\"dataframe\">\n",
       "  <thead>\n",
       "    <tr style=\"text-align: right;\">\n",
       "      <th></th>\n",
       "      <th>rating</th>\n",
       "      <th>last_review_days</th>\n",
       "      <th>ranking</th>\n",
       "      <th>reviews_number</th>\n",
       "      <th>interval</th>\n",
       "      <th>price_range</th>\n",
       "    </tr>\n",
       "  </thead>\n",
       "  <tbody>\n",
       "    <tr>\n",
       "      <th>rating</th>\n",
       "      <td>1.000000</td>\n",
       "      <td>-0.078836</td>\n",
       "      <td>-0.544573</td>\n",
       "      <td>0.026882</td>\n",
       "      <td>-0.024333</td>\n",
       "      <td>-0.015376</td>\n",
       "    </tr>\n",
       "    <tr>\n",
       "      <th>last_review_days</th>\n",
       "      <td>-0.078836</td>\n",
       "      <td>1.000000</td>\n",
       "      <td>0.317234</td>\n",
       "      <td>-0.192401</td>\n",
       "      <td>0.032577</td>\n",
       "      <td>-0.042699</td>\n",
       "    </tr>\n",
       "    <tr>\n",
       "      <th>ranking</th>\n",
       "      <td>-0.544573</td>\n",
       "      <td>0.317234</td>\n",
       "      <td>1.000000</td>\n",
       "      <td>-0.405765</td>\n",
       "      <td>0.417785</td>\n",
       "      <td>-0.147823</td>\n",
       "    </tr>\n",
       "    <tr>\n",
       "      <th>reviews_number</th>\n",
       "      <td>0.026882</td>\n",
       "      <td>-0.192401</td>\n",
       "      <td>-0.405765</td>\n",
       "      <td>1.000000</td>\n",
       "      <td>-0.246724</td>\n",
       "      <td>0.166896</td>\n",
       "    </tr>\n",
       "    <tr>\n",
       "      <th>interval</th>\n",
       "      <td>-0.024333</td>\n",
       "      <td>0.032577</td>\n",
       "      <td>0.417785</td>\n",
       "      <td>-0.246724</td>\n",
       "      <td>1.000000</td>\n",
       "      <td>-0.052576</td>\n",
       "    </tr>\n",
       "    <tr>\n",
       "      <th>price_range</th>\n",
       "      <td>-0.015376</td>\n",
       "      <td>-0.042699</td>\n",
       "      <td>-0.147823</td>\n",
       "      <td>0.166896</td>\n",
       "      <td>-0.052576</td>\n",
       "      <td>1.000000</td>\n",
       "    </tr>\n",
       "  </tbody>\n",
       "</table>\n",
       "</div>"
      ],
      "text/plain": [
       "                    rating  last_review_days   ranking  reviews_number  \\\n",
       "rating            1.000000         -0.078836 -0.544573        0.026882   \n",
       "last_review_days -0.078836          1.000000  0.317234       -0.192401   \n",
       "ranking          -0.544573          0.317234  1.000000       -0.405765   \n",
       "reviews_number    0.026882         -0.192401 -0.405765        1.000000   \n",
       "interval         -0.024333          0.032577  0.417785       -0.246724   \n",
       "price_range      -0.015376         -0.042699 -0.147823        0.166896   \n",
       "\n",
       "                  interval  price_range  \n",
       "rating           -0.024333    -0.015376  \n",
       "last_review_days  0.032577    -0.042699  \n",
       "ranking           0.417785    -0.147823  \n",
       "reviews_number   -0.246724     0.166896  \n",
       "interval          1.000000    -0.052576  \n",
       "price_range      -0.052576     1.000000  "
      ]
     },
     "execution_count": 1613,
     "metadata": {},
     "output_type": "execute_result"
    }
   ],
   "source": [
    "# Посмотрим на корреляцию признаков.\n",
    "df[['rating', 'last_review_days', 'ranking',\n",
    "    'reviews_number', 'interval', 'price_range']].corr()"
   ]
  },
  {
   "cell_type": "code",
   "execution_count": 1614,
   "metadata": {},
   "outputs": [],
   "source": [
    "# Из таблицы мы видим, что силно скоррелированных признаков нет, а значит наш датасет пригоден\n",
    "# для обучения модели"
   ]
  },
  {
   "cell_type": "markdown",
   "metadata": {},
   "source": [
    "# Разбиваем датафрейм на части, необходимые для обучения и тестирования модели, нормализация данных"
   ]
  },
  {
   "cell_type": "code",
   "execution_count": 1615,
   "metadata": {},
   "outputs": [
    {
     "name": "stderr",
     "output_type": "stream",
     "text": [
      "/home/alex/.local/lib/python3.6/site-packages/sklearn/preprocessing/data.py:645: DataConversionWarning: Data with input dtype uint8, int64, float64 were all converted to float64 by StandardScaler.\n",
      "  return self.partial_fit(X, y)\n",
      "/home/alex/.local/lib/python3.6/site-packages/sklearn/base.py:464: DataConversionWarning: Data with input dtype uint8, int64, float64 were all converted to float64 by StandardScaler.\n",
      "  return self.fit(X, **fit_params).transform(X)\n"
     ]
    }
   ],
   "source": [
    "# Х - данные с информацией о ресторанах, у - целевая переменная (рейтинги ресторанов)\n",
    "# Проведем нормализацию наших признаков\n",
    "from sklearn.preprocessing import StandardScaler\n",
    "scaler = StandardScaler()\n",
    "X = df.drop(['rating'], axis=1)\n",
    "scaler.fit_transform(df)\n",
    "y = df['rating']"
   ]
  },
  {
   "cell_type": "code",
   "execution_count": 1616,
   "metadata": {},
   "outputs": [],
   "source": [
    "# Загружаем специальный инструмент для разбивки:\n",
    "from sklearn.model_selection import train_test_split"
   ]
  },
  {
   "cell_type": "code",
   "execution_count": 1617,
   "metadata": {},
   "outputs": [],
   "source": [
    "# Наборы данных с меткой \"train\" будут использоваться для обучения модели, \"test\" - для тестирования.\n",
    "# Для тестирования мы будем использовать 25% от исходного датасета.\n",
    "X_train, X_test, y_train, y_test = train_test_split(X, y, test_size=0.25)"
   ]
  },
  {
   "cell_type": "markdown",
   "metadata": {},
   "source": [
    "# Создаём, обучаем и тестируем модель"
   ]
  },
  {
   "cell_type": "code",
   "execution_count": 1618,
   "metadata": {},
   "outputs": [],
   "source": [
    "# Импортируем необходимые библиотеки:\n",
    "# инструмент для создания и обучения модели\n",
    "from sklearn.ensemble import RandomForestRegressor\n",
    "from sklearn import metrics  # инструменты для оценки точности модели"
   ]
  },
  {
   "cell_type": "code",
   "execution_count": 1619,
   "metadata": {},
   "outputs": [],
   "source": [
    "# Создаём модель\n",
    "regr = RandomForestRegressor(n_estimators=100)\n",
    "\n",
    "# Обучаем модель на тестовом наборе данных\n",
    "regr.fit(X_train, y_train)\n",
    "\n",
    "# Используем обученную модель для предсказания рейтинга ресторанов в тестовой выборке.\n",
    "# Предсказанные значения записываем в переменную y_pred\n",
    "y_pred = regr.predict(X_test)"
   ]
  },
  {
   "cell_type": "code",
   "execution_count": 1620,
   "metadata": {},
   "outputs": [
    {
     "name": "stdout",
     "output_type": "stream",
     "text": [
      "MAE: 0.2075275\n"
     ]
    }
   ],
   "source": [
    "# Сравниваем предсказанные значения (y_pred) с реальными (y_test), и смотрим насколько они в среднем отличаются\n",
    "# Метрика называется Mean Absolute Error (MAE) и показывает среднее отклонение предсказанных значений от фактических.\n",
    "print('MAE:', metrics.mean_absolute_error(y_test, y_pred))"
   ]
  },
  {
   "cell_type": "code",
   "execution_count": 1622,
   "metadata": {},
   "outputs": [],
   "source": [
    "# В результате преобразований, удалось снизить отклонение предсказания более чем в раза."
   ]
  },
  {
   "cell_type": "code",
   "execution_count": null,
   "metadata": {},
   "outputs": [],
   "source": []
  }
 ],
 "metadata": {
  "kernelspec": {
   "display_name": "Python 3",
   "language": "python",
   "name": "python3"
  },
  "language_info": {
   "codemirror_mode": {
    "name": "ipython",
    "version": 3
   },
   "file_extension": ".py",
   "mimetype": "text/x-python",
   "name": "python",
   "nbconvert_exporter": "python",
   "pygments_lexer": "ipython3",
   "version": "3.6.9"
  }
 },
 "nbformat": 4,
 "nbformat_minor": 2
}
